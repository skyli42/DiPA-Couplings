{
 "cells": [
  {
   "cell_type": "markdown",
   "source": [
    "The goal of this notebook is to understand some bounds on DiPA segments with no cycles, ones for which S^N is viable. The goal is to find a tight coupling strategy for these segments."
   ],
   "metadata": {
    "collapsed": false
   }
  },
  {
   "cell_type": "code",
   "execution_count": 418,
   "outputs": [],
   "source": [
    "import numpy as np\n",
    "import matplotlib.pyplot as plt\n",
    "import scipy.integrate\n",
    "from helpers.laplace import laplace_cdf, laplace_pdf"
   ],
   "metadata": {
    "collapsed": false,
    "ExecuteTime": {
     "end_time": "2023-06-28T17:00:27.419646Z",
     "start_time": "2023-06-28T17:00:27.415312Z"
    }
   }
  },
  {
   "cell_type": "code",
   "execution_count": 419,
   "outputs": [],
   "source": [
    "i = 3  # Number of L transitions\n",
    "j = 0  # Number of G transitions\n",
    "\n",
    "epsilon = 0.01\n",
    "epsilon_0 = 6.0 * epsilon   # noise on the first state\n",
    "epsilon_1 = 1.0 * epsilon   # noise on all other states"
   ],
   "metadata": {
    "collapsed": false,
    "ExecuteTime": {
     "end_time": "2023-06-28T17:00:27.419812Z",
     "start_time": "2023-06-28T17:00:27.418417Z"
    }
   }
  },
  {
   "cell_type": "markdown",
   "source": [
    "The input sequences will be of the form\n",
    "`0, z^i, z^i`\n",
    "`1, (z-1)^i, (z-1)^i`\n",
    "and we'll see which ones are worst."
   ],
   "metadata": {
    "collapsed": false
   }
  },
  {
   "cell_type": "code",
   "execution_count": 420,
   "outputs": [],
   "source": [
    "# Constants\n",
    "z = 220.0\n",
    "X_1 = [0.0, z, z]   # threshold, L inputs, G inputs\n",
    "X_2 = [1.0, z - 1, z + 1]"
   ],
   "metadata": {
    "collapsed": false,
    "ExecuteTime": {
     "end_time": "2023-06-28T17:00:27.423057Z",
     "start_time": "2023-06-28T17:00:27.420439Z"
    }
   }
  },
  {
   "cell_type": "code",
   "execution_count": 421,
   "outputs": [],
   "source": [
    "# Functions\n",
    "f_1 = lambda x: laplace_pdf(x, X_1[0], epsilon_0) \\\n",
    "    * laplace_cdf(x, X_1[1], epsilon_1) ** i \\\n",
    "    * (1 - laplace_cdf(x, X_1[2], epsilon_1)) ** j\n",
    "f_2 = lambda x: laplace_pdf(x, X_2[0], epsilon_0) \\\n",
    "    * laplace_cdf(x, X_2[1], epsilon_1) ** i \\\n",
    "    * (1 - laplace_cdf(x, X_2[2], epsilon_1)) ** j"
   ],
   "metadata": {
    "collapsed": false,
    "ExecuteTime": {
     "end_time": "2023-06-28T17:00:27.424676Z",
     "start_time": "2023-06-28T17:00:27.423329Z"
    }
   }
  },
  {
   "cell_type": "code",
   "execution_count": 422,
   "outputs": [
    {
     "name": "stderr",
     "output_type": "stream",
     "text": [
      "/var/folders/4c/tzg8d_qx24lcv8p9121jlh2r0000gn/T/ipykernel_60172/2259260165.py:1: IntegrationWarning: The occurrence of roundoff error is detected, which prevents \n",
      "  the requested tolerance from being achieved.  The error may be \n",
      "  underestimated.\n",
      "  p1, p1_err = scipy.integrate.quad(f_1, -np.inf, np.inf, epsrel=1e-30, epsabs=1e-20)\n",
      "/var/folders/4c/tzg8d_qx24lcv8p9121jlh2r0000gn/T/ipykernel_60172/2259260165.py:2: IntegrationWarning: The occurrence of roundoff error is detected, which prevents \n",
      "  the requested tolerance from being achieved.  The error may be \n",
      "  underestimated.\n",
      "  p2, p2_err = scipy.integrate.quad(f_2, -np.inf, np.inf, epsrel=1e-30, epsabs=1e-20)\n"
     ]
    }
   ],
   "source": [
    "p1, p1_err = scipy.integrate.quad(f_1, -np.inf, np.inf, epsrel=1e-30, epsabs=1e-20)\n",
    "p2, p2_err = scipy.integrate.quad(f_2, -np.inf, np.inf, epsrel=1e-30, epsabs=1e-20)"
   ],
   "metadata": {
    "collapsed": false,
    "ExecuteTime": {
     "end_time": "2023-06-28T17:00:27.447445Z",
     "start_time": "2023-06-28T17:00:27.445584Z"
    }
   }
  },
  {
   "cell_type": "code",
   "execution_count": 423,
   "outputs": [],
   "source": [
    "ratio = max(p1 / p2, p2 / p1)\n",
    "ratio_err = ratio * np.sqrt((p1_err / p1) ** 2 + (p2_err / p2) ** 2)"
   ],
   "metadata": {
    "collapsed": false,
    "ExecuteTime": {
     "end_time": "2023-06-28T17:00:27.449070Z",
     "start_time": "2023-06-28T17:00:27.447849Z"
    }
   }
  },
  {
   "cell_type": "code",
   "execution_count": 424,
   "outputs": [
    {
     "name": "stdout",
     "output_type": "stream",
     "text": [
      "s_l_bound = 1.1274968515793757\n",
      "s_g_bound = 1.1972173631218102\n",
      "s_n_bound = 1.0941742837052104\n",
      "s_j_bound = 1.0618365465453596\n",
      "ratio = 1.06182139017775 +/- 1.7261256448536893e-14\n"
     ]
    }
   ],
   "source": [
    "s_l_bound = np.exp(2 * epsilon_0 + 2 * epsilon_1 * j)\n",
    "s_g_bound = np.exp(2 * epsilon_0 + 2 * epsilon_1 * i)\n",
    "s_n_bound = np.exp(epsilon_0 + epsilon_1 * (i + j))\n",
    "s_j_bound = np.exp(2 * epsilon_1 * (i + j))\n",
    "print(f\"s_l_bound = {s_l_bound}\")\n",
    "print(f\"s_g_bound = {s_g_bound}\")\n",
    "print(f\"s_n_bound = {s_n_bound}\")\n",
    "print(f\"s_j_bound = {s_j_bound}\")\n",
    "print(f\"ratio = {ratio} +/- {ratio_err}\")"
   ],
   "metadata": {
    "collapsed": false,
    "ExecuteTime": {
     "end_time": "2023-06-28T17:00:27.452389Z",
     "start_time": "2023-06-28T17:00:27.450922Z"
    }
   }
  }
 ],
 "metadata": {
  "kernelspec": {
   "display_name": "Python 3",
   "language": "python",
   "name": "python3"
  },
  "language_info": {
   "codemirror_mode": {
    "name": "ipython",
    "version": 2
   },
   "file_extension": ".py",
   "mimetype": "text/x-python",
   "name": "python",
   "nbconvert_exporter": "python",
   "pygments_lexer": "ipython2",
   "version": "2.7.6"
  }
 },
 "nbformat": 4,
 "nbformat_minor": 0
}
