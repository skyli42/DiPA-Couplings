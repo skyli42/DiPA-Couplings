{
 "cells": [
  {
   "cell_type": "markdown",
   "source": [
    "Here, I am trying to solve the bi-level optimisation problem\n",
    "\n",
    "$$\\max_{\\Delta_i} \\left(\\min_{\\gamma_i} m_0 |\\Delta_0 - \\gamma_0| + m_\\ell |\\Delta_\\ell - \\gamma_\\ell| + m_g |\\Delta_g - \\gamma_g|\\right)$$\n",
    "\n",
    "subject to the constraints\n",
    "\n",
    "$$\n",
    "\\begin{align}\n",
    "\\gamma_\\ell &\\leq \\gamma_0 \\\\\n",
    "\\gamma_g &\\geq \\gamma_0 \\\\\n",
    "-1 \\leq \\gamma_\\ell, \\gamma_g, \\gamma_0 &\\leq 1\\\\\n",
    "-1 \\leq \\Delta_i &\\leq 1 \\qquad \\forall i \\in \\{0, \\ell, g\\}\n",
    "\\end{align}\n",
    "$$\n",
    "\n",
    "to find the worst counterexample against the best coupling strategy for that counterexample. We'll first try iterative methods."
   ],
   "metadata": {
    "collapsed": false
   }
  },
  {
   "cell_type": "code",
   "execution_count": null,
   "outputs": [],
   "source": [],
   "metadata": {
    "collapsed": false
   }
  }
 ],
 "metadata": {
  "kernelspec": {
   "display_name": "Python 3",
   "language": "python",
   "name": "python3"
  },
  "language_info": {
   "codemirror_mode": {
    "name": "ipython",
    "version": 2
   },
   "file_extension": ".py",
   "mimetype": "text/x-python",
   "name": "python",
   "nbconvert_exporter": "python",
   "pygments_lexer": "ipython2",
   "version": "2.7.6"
  }
 },
 "nbformat": 4,
 "nbformat_minor": 0
}
