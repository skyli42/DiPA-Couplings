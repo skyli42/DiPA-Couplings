{
 "cells": [
  {
   "cell_type": "markdown",
   "source": [
    "The $\\gamma$ graph given fixed $\\Delta$ and a segment sequence is a MOUNTAIN DAG, where each $\\gamma_i$ has some $c_i$ influencing the optimization problem, which is a more constrained case of a linear program in which the constraints are just inequalities between $\\gamma_i$.\n",
    "\n",
    "Let's solve such a linear program. Let's define a vector $\\gamma$ and costs $c_i$. We want to minimize\n",
    "\n",
    "$c^t \\gamma$\n",
    "\n",
    "respect to the constraints\n",
    "\n",
    "$A \\gamma \\geq 0$\n",
    "\n",
    "where $A$ is a matrix with the constraints. We can solve this with cvxpy."
   ],
   "metadata": {
    "collapsed": false
   }
  },
  {
   "cell_type": "code",
   "execution_count": 175,
   "outputs": [
    {
     "name": "stdout",
     "output_type": "stream",
     "text": [
      "[-2  1 -1  1  1 -1]\n",
      "[ 1.          1.          0.16863528  0.16863528 -0.1687181  -0.1687181 ]\n",
      "-0.9999999999837059\n"
     ]
    }
   ],
   "source": [
    "import cvxpy as cp\n",
    "import numpy as np\n",
    "\n",
    "n = 6\n",
    "gamma = cp.Variable(n)\n",
    "c = np.array([-2, 1, -1, 1, 1, -1])\n",
    "A = np.array([\n",
    "    [-1, 1, 0, 0, 0, 0],\n",
    "    [0, 0, -1, 1, 0, 0],\n",
    "    [0, 0, 0, 0, 1, -1],\n",
    "    [0, 0, 0, 1, -1, 0],\n",
    "])\n",
    "\n",
    "constraints = [A @ gamma >= 0, gamma >= -1, gamma <= 1]\n",
    "objective = cp.Minimize(c @ gamma)\n",
    "prob = cp.Problem(objective, constraints)\n",
    "result = prob.solve()\n",
    "print(c)\n",
    "print(gamma.value)\n",
    "print(result)"
   ],
   "metadata": {
    "collapsed": false,
    "ExecuteTime": {
     "end_time": "2023-08-02T21:57:19.094659Z",
     "start_time": "2023-08-02T21:57:19.087506Z"
    }
   }
  },
  {
   "cell_type": "code",
   "execution_count": 168,
   "outputs": [],
   "source": [],
   "metadata": {
    "collapsed": false,
    "ExecuteTime": {
     "end_time": "2023-08-02T21:56:54.516533Z",
     "start_time": "2023-08-02T21:56:54.514599Z"
    }
   }
  },
  {
   "cell_type": "code",
   "execution_count": 168,
   "outputs": [],
   "source": [],
   "metadata": {
    "collapsed": false,
    "ExecuteTime": {
     "end_time": "2023-08-02T21:56:54.520331Z",
     "start_time": "2023-08-02T21:56:54.516709Z"
    }
   }
  }
 ],
 "metadata": {
  "kernelspec": {
   "display_name": "Python 3",
   "language": "python",
   "name": "python3"
  },
  "language_info": {
   "codemirror_mode": {
    "name": "ipython",
    "version": 2
   },
   "file_extension": ".py",
   "mimetype": "text/x-python",
   "name": "python",
   "nbconvert_exporter": "python",
   "pygments_lexer": "ipython2",
   "version": "2.7.6"
  }
 },
 "nbformat": 4,
 "nbformat_minor": 0
}
