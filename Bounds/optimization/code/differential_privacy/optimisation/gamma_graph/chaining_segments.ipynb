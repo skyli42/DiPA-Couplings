{
 "cells": [
  {
   "cell_type": "code",
   "execution_count": 1,
   "metadata": {
    "collapsed": true,
    "ExecuteTime": {
     "end_time": "2023-08-11T17:43:30.041773Z",
     "start_time": "2023-08-11T17:43:28.209285Z"
    }
   },
   "outputs": [
    {
     "name": "stdout",
     "output_type": "stream",
     "text": [
      "status: optimal\n",
      "optimal value 199.99999999999343\n",
      "optimal var\n",
      " [[-8.52821460e-13  1.53428315e-12 -5.07526895e-13]]\n",
      "[gamma_(0, 0) < gamma_(0, 1) > gamma_(0, 2)] "
     ]
    }
   ],
   "source": [
    "    import cvxpy as cp\n",
    "import numpy as np\n",
    "\n",
    "def name_of_inequality(inequality):\n",
    "    if inequality == leq:\n",
    "        return \"<\"\n",
    "    elif inequality == geq:\n",
    "        return \">\"\n",
    "    else:\n",
    "        raise ValueError(\"Unknown inequality\")\n",
    "\n",
    "def print_constraints(inequalities, last_inequality, n, k):\n",
    "    print(f\"[gamma_{0, 0}\", end=\"\")\n",
    "    for i in range(k): # for each repetition\n",
    "        for j in range(n - 1): # for each segment in the sequence\n",
    "            print(f\" {name_of_inequality(inequalities[j])} gamma_{i, j + 1}\", end=\"\")\n",
    "        print(\"]\", end=\" \")\n",
    "        if i < k - 1:\n",
    "            print(f\"{name_of_inequality(last_inequality)} [gamma_{i + 1, 0}\", end=\" \")\n",
    "\n",
    "constraints = []\n",
    "\n",
    "leq = lambda x, y: x <= y\n",
    "geq = lambda x, y: x >= y\n",
    "\n",
    "n = 3 # number of segments in the segment sequence\n",
    "inequalities = [leq, geq]; assert len(inequalities) == n - 1\n",
    "last_inequality = geq\n",
    "c = np.array([-50, 1, 100]) # cost vector\n",
    "b = 200 # additional bias term\n",
    "\n",
    "k = 1 # number of times we want to repeat the segment sequence\n",
    "gammas = cp.Variable((k, n)) # gammas[i, j] is the gamma for the jth segment in the ith repetition\n",
    "\n",
    "for i in range(k):\n",
    "    for j, inequality in enumerate(inequalities):   # intra-sequence connecting constraints\n",
    "        constraints.append(inequality(gammas[i, j], gammas[i, j + 1]))\n",
    "\n",
    "for i in range(k - 1): # inter-sequence connecting constraints\n",
    "    constraints.append(last_inequality(gammas[i, n - 1], gammas[i + 1, 0]))\n",
    "\n",
    "constraints.append(gammas >= -1)\n",
    "constraints.append(gammas <= 1)\n",
    "constraints.append(gammas==0)\n",
    "\n",
    "objective = cp.Minimize(cp.sum(gammas @ c + np.ones(k) * b))\n",
    "\n",
    "prob = cp.Problem(objective, constraints)\n",
    "prob.solve()\n",
    "\n",
    "print(\"status:\", prob.status)\n",
    "print(\"optimal value\", prob.value)\n",
    "print(\"optimal var\\n\", gammas.value)\n",
    "\n",
    "print_constraints(inequalities, last_inequality, n, k)"
   ]
  },
  {
   "cell_type": "code",
   "execution_count": null,
   "outputs": [],
   "source": [],
   "metadata": {
    "collapsed": false
   }
  }
 ],
 "metadata": {
  "kernelspec": {
   "display_name": "Python 3",
   "language": "python",
   "name": "python3"
  },
  "language_info": {
   "codemirror_mode": {
    "name": "ipython",
    "version": 2
   },
   "file_extension": ".py",
   "mimetype": "text/x-python",
   "name": "python",
   "nbconvert_exporter": "python",
   "pygments_lexer": "ipython2",
   "version": "2.7.6"
  }
 },
 "nbformat": 4,
 "nbformat_minor": 0
}
