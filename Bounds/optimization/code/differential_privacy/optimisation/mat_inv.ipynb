{
 "cells": [
  {
   "cell_type": "code",
   "execution_count": 2,
   "metadata": {
    "collapsed": true,
    "ExecuteTime": {
     "end_time": "2023-08-11T21:12:36.006818Z",
     "start_time": "2023-08-11T21:12:36.003378Z"
    }
   },
   "outputs": [
    {
     "name": "stdout",
     "output_type": "stream",
     "text": [
      "[[ 0 -2 -1 -1 -1 -1]\n",
      " [-1 -2  0 -1 -1 -1]\n",
      " [-1 -1  0 -2 -1 -1]\n",
      " [ 0 -1 -1 -1 -1 -2]\n",
      " [-1 -1 -1 -1 -2 -1]\n",
      " [-2 -1 -1 -1 -1  0]]\n"
     ]
    }
   ],
   "source": [
    "import numpy as np\n",
    "\n",
    "mat = np.array([\n",
    "    [-1, 1, 0, 0, 0, 0],\n",
    "    [0, 1, -1, 0, 0, 0],\n",
    "    [0, 0, -1, 1, 0, 0],\n",
    "    [-1, 0, 0, 0, 0, 1],\n",
    "    [0, 0, 0, 0, 1, 0],\n",
    "    [1, 0, 0, 0, 0, -1]\n",
    "])\n",
    "\n",
    "print(np.invert(mat))"
   ]
  },
  {
   "cell_type": "code",
   "execution_count": null,
   "outputs": [],
   "source": [],
   "metadata": {
    "collapsed": false
   }
  }
 ],
 "metadata": {
  "kernelspec": {
   "display_name": "Python 3",
   "language": "python",
   "name": "python3"
  },
  "language_info": {
   "codemirror_mode": {
    "name": "ipython",
    "version": 2
   },
   "file_extension": ".py",
   "mimetype": "text/x-python",
   "name": "python",
   "nbconvert_exporter": "python",
   "pygments_lexer": "ipython2",
   "version": "2.7.6"
  }
 },
 "nbformat": 4,
 "nbformat_minor": 0
}
