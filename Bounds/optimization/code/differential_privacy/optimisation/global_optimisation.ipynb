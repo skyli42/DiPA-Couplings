{
 "nbformat": 4,
 "nbformat_minor": 0,
 "metadata": {
  "colab": {
   "provenance": [],
   "toc_visible": true
  },
  "kernelspec": {
   "name": "python3",
   "language": "python",
   "display_name": "Python 3 (ipykernel)"
  },
  "language_info": {
   "name": "python"
  }
 },
 "cells": [
  {
   "cell_type": "markdown",
   "source": [
    "Fix some input differences $\\Delta$ and a sequence of segments $s_1 \\hookrightarrow s_2 \\hookrightarrow \\dots \\hookrightarrow s_n$. The search for an optimal coupling strategy can be formulated as the following optimization problem:\n",
    "\n",
    "\\begin{align}\n",
    "\\min_{\\gamma} \\sum_{i = 0}^n \\sum_{k = 0}^{t_i} |\\Delta_{k}^i - \\gamma_k^i|\n",
    "\\end{align}\n",
    "\n",
    "subject to the constraints\n",
    "\n",
    "- If transition $k$ on segment $i$ outputs `insample`, then $\\gamma_k^i = 0$.\n",
    "- If transition $k$ on segment $i$ belongs to a cycle, then $\\gamma_k^i = \\Delta_k^i$.\n",
    "- If transition $k$ on segment $i$ has guard:\n",
    "  - `insample < x`, then $\\gamma_k^i \\leq \\gamma_0^i$\n",
    "  - `insample >= x`, then $\\gamma_k^i \\geq \\gamma_0^i$\n",
    "- If $s_i \\hookrightarrow s_j$ and $guard(s_j)$ is:\n",
    "  - `insample < x`, then $\\gamma_0^j \\leq \\gamma_0^i$\n",
    "  - `insample >= x`, then $\\gamma_0^j \\geq \\gamma_0^i$\n",
    "- $\\forall k. \\forall i: -1 \\leq \\gamma^i_k \\leq 1$"
   ],
   "metadata": {
    "id": "Vtv4u0IawTIs"
   }
  },
  {
   "cell_type": "markdown",
   "source": [
    "Let's perform some tests to see whether these conditions make sense. First, let's try it on SVT:"
   ],
   "metadata": {
    "id": "Uw3HxrYuyQD5"
   }
  },
  {
   "cell_type": "code",
   "execution_count": 5,
   "metadata": {
    "colab": {
     "base_uri": "https://localhost:8080/"
    },
    "id": "hUS-9qMuwCX6",
    "outputId": "cf5c0cc7-af87-4edd-e3e8-db0fd413920e",
    "ExecuteTime": {
     "end_time": "2023-07-06T17:48:03.217743Z",
     "start_time": "2023-07-06T17:48:03.213125Z"
    }
   },
   "outputs": [
    {
     "name": "stdout",
     "output_type": "stream",
     "text": [
      "2.0678458945155853e-11\n",
      "[array(1.), array(1.), array(1.)]\n"
     ]
    }
   ],
   "source": [
    "# SVT\n",
    "\n",
    "import numpy as np\n",
    "import cvxpy as cp\n",
    "\n",
    "n = 1\n",
    "k = 3\n",
    "deltas = [[1, 1, 1], ]\n",
    "gammas = [[cp.Variable() for _ in range(k)] for i in range(n)]\n",
    "objective = cp.Minimize(\n",
    "    cp.abs(deltas[0][0] - gammas[0][0]) + cp.abs(deltas[0][2] - deltas[0][2])\n",
    ")\n",
    "constraints = [\n",
    "    gammas[0][1] <= gammas[0][0],  # < transition\n",
    "    gammas[0][0] <= gammas[0][2],  # >= transition\n",
    "    gammas[0][1] == deltas[0][1]  # belongs to a cycle\n",
    "]\n",
    "for segment in gammas:\n",
    "    for gamma in segment:\n",
    "        constraints.append(-1 <= gamma)\n",
    "        constraints.append(gamma <= 1)\n",
    "\n",
    "prob = cp.Problem(objective, constraints)\n",
    "\n",
    "result = prob.solve()\n",
    "\n",
    "print(result)\n",
    "for row in gammas:\n",
    "    print([gamma.value for gamma in row])"
   ]
  },
  {
   "cell_type": "code",
   "source": [
    "# A_sort\n",
    "\n",
    "n = 1\n",
    "k = 5\n",
    "deltas = [[0, 1, -1, -1, 1], ]\n",
    "gammas = [[cp.Variable() for _ in range(k)] for i in range(n)]\n",
    "objective = cp.Minimize(\n",
    "    cp.abs(deltas[0][0] - gammas[0][0]) + cp.abs(deltas[0][2] - deltas[0][2])\n",
    ")\n",
    "constraints = [\n",
    "    gammas[0][1] <= gammas[0][0],  # 1 --> 1 is a < transition\n",
    "    gammas[0][1] == deltas[0][1],  # 1 --> 1 is on a cycle\n",
    "    gammas[0][2] >= gammas[0][0],  # 1 --> 2 is a >= transition\n",
    "    gammas[0][3] >= gammas[0][0],  # 2 --> 2 is a >= transition\n",
    "    gammas[0][3] == deltas[0][3],  # 2 --> 2 is on a cycle\n",
    "    gammas[0][4] <= gammas[0][0],  # 2 --> 3 is a < transition\n",
    "]\n",
    "for segment in gammas:\n",
    "    for gamma in segment:\n",
    "        constraints.append(-1 <= gamma)\n",
    "        constraints.append(gamma <= 1)\n",
    "\n",
    "prob = cp.Problem(objective, constraints)\n",
    "\n",
    "result = prob.solve()\n",
    "\n",
    "print(result)\n",
    "for row in gammas:\n",
    "    print([gamma.value for gamma in row])"
   ],
   "metadata": {
    "colab": {
     "base_uri": "https://localhost:8080/"
    },
    "id": "XEY10boJ32m0",
    "outputId": "89ac6e48-ec58-4176-b357-444f321f27a6",
    "ExecuteTime": {
     "end_time": "2023-07-06T17:48:03.988161Z",
     "start_time": "2023-07-06T17:48:03.981865Z"
    }
   },
   "execution_count": 6,
   "outputs": [
    {
     "name": "stdout",
     "output_type": "stream",
     "text": [
      "inf\n",
      "[None, None, None, None, None]\n"
     ]
    }
   ]
  },
  {
   "cell_type": "markdown",
   "source": [
    "Multiple segments of SVT linked together"
   ],
   "metadata": {
    "id": "-To8bPq2PknB"
   }
  },
  {
   "cell_type": "code",
   "source": [
    "n = 4  # number of segments\n",
    "k = 3  # number of transitions per segment\n",
    "deltas = [[-1, 1, -1] for _ in range(n)]\n",
    "gammas = [[cp.Variable() for _ in range(k)] for i in range(n)]\n",
    "constraints = [\n",
    "                  gammas[i][1] <= gammas[i][0] for i in range(n)  # < transitions\n",
    "              ] + [\n",
    "                  gammas[i][1] == deltas[i][1] for i in range(n)  # the < transitions are in a cycle\n",
    "              ] + [\n",
    "                  gammas[i][2] >= gammas[i][0] for i in range(n)  # >= transitions\n",
    "              ] + [\n",
    "                  -1 <= gammas[i][j] for i in range(n) for j in range(k)  # gammas are >= -1\n",
    "              ] + [\n",
    "                    gammas[i][j] <= 1 for i in range(n) for j in range(k)  # gammas are <= 1\n",
    "                ]\n",
    "objective = cp.Minimize(\n",
    "    sum([cp.abs(deltas[i][0] - gammas[i][0]) + cp.abs(deltas[i][2] - deltas[i][2]) for i in range(n)])\n",
    ")\n",
    "\n",
    "prob = cp.Problem(objective, constraints)\n",
    "\n",
    "result = prob.solve()\n",
    "\n",
    "print(result)\n",
    "for row in gammas:\n",
    "    print([gamma.value for gamma in row])"
   ],
   "metadata": {
    "id": "sM2SdoLpPtEn",
    "ExecuteTime": {
     "end_time": "2023-07-06T17:53:40.595803Z",
     "start_time": "2023-07-06T17:53:40.588248Z"
    }
   },
   "execution_count": 17,
   "outputs": [
    {
     "name": "stdout",
     "output_type": "stream",
     "text": [
      "7.999999997958275\n",
      "[array(1.), array(1.), array(1.)]\n",
      "[array(1.), array(1.), array(1.)]\n",
      "[array(1.), array(1.), array(1.)]\n",
      "[array(1.), array(1.), array(1.)]\n"
     ]
    }
   ]
  },
  {
   "cell_type": "code",
   "execution_count": 1,
   "outputs": [
    {
     "data": {
      "image/png": "[encoded data removed]",
      "text/plain": "<IPython.core.display.Image object>"
     },
     "execution_count": 1,
     "metadata": {},
     "output_type": "execute_result"
    }
   ],
   "source": [
    "from helpers.dipa_constructors import construct_svt_dipa\n",
    "from classes.DiPAPresenter import DiPAPresenter\n",
    "from classes.DiPAGraph import DiPAGraph\n",
    "from IPython.display import Image\n",
    "\n",
    "dipa = construct_svt_dipa()\n",
    "presenter = DiPAPresenter(dipa)\n",
    "image = presenter.visualize()\n",
    "Image(image)\n",
    "\n",
    "# get the segments of the dipa\n",
    "graph ="
   ],
   "metadata": {
    "collapsed": false,
    "ExecuteTime": {
     "end_time": "2023-07-06T18:04:32.891211Z",
     "start_time": "2023-07-06T18:04:32.434064Z"
    }
   }
  },
  {
   "cell_type": "code",
   "execution_count": null,
   "outputs": [],
   "source": [],
   "metadata": {
    "collapsed": false
   }
  }
 ]
}
