{
 "cells": [
  {
   "cell_type": "markdown",
   "metadata": {},
   "source": [
    "Let $X_1$, $X_2$ be adjacent inputs into a segment on a DiPA. If $\\Delta_i = X_1[i] - X_2[i]$, then let $\\Delta_0 = 1$, $\\Delta_\\ell = -1$ for all $L$-transitions, and $\\Delta_g = 1$ for all $G$-transitions.\n",
    "\n",
    "What is the best coupling strategy for this pair of input sequences?\n",
    "\n",
    "If we generalize coupling strategies on a segment as choices of $\\gamma_0, \\gamma_l, \\gamma_g \\in \\mathbb{R}$ such that\n",
    "\n",
    "$$\n",
    "\\begin{align}\n",
    "x_0\\langle 1 \\rangle + \\gamma_0 =^{#(\\Delta_0 - \\gamma_0)} &= x_0 \\langle 2 \\rangle \\\\\n",
    "x_i\\langle 1 \\rangle + \\gamma_\\ell =^{#(\\Delta_\\ell - \\gamma_\\ell)} &= x_i \\langle 2 \\rangle \\qquad \\text{$i$th transition is $<$} \\\\\n",
    "x_i\\langle 1 \\rangle + \\gamma_g =^{#(\\Delta_g - \\gamma_g)} &= x_i \\langle 2 \\rangle \\qquad \\text{$i$th transition is $\\geq$} \\\\\n",
    "\\end{align}\n",
    "$$\n",
    "\n",
    "such that $\\gamma_\\ell \\leq \\gamma_0 \\leq \\gamma_g$, the above forms a valid coupling strategy that ensures differential privacy with the bound\n",
    "\n",
    "$$|\\Delta_0 - \\gamma_0| + \\ell |\\Delta_1 - \\gamma_\\ell| + m |\\Delta_g - \\gamma_g|$$\n",
    "\n",
    "assuming $\\ell$ transitions of type $<$ and $m$ transitions of type $\\geq$.\n",
    "\n",
    "Now, choosing $\\gamma_0, \\gamma_\\ell$, and $\\gamma_g$ is an optimization problem that can be formulated as a linear program:\n",
    "\n",
    "$$\\min_{\\gamma_0, \\gamma_\\ell, \\gamma_g \\in \\mathbb{R}} |\\Delta_0 - \\gamma_0| + \\ell |\\Delta_1 - \\gamma_\\ell| + m |\\Delta_g - \\gamma_g| $$ subject to the constraints\n",
    "\n",
    "$$\n",
    "\\begin{align}\n",
    "\\gamma_\\ell &\\leq \\gamma_0 \\\\\n",
    "\\gamma_g &\\geq \\gamma_0 \\\\\n",
    "-1 \\leq \\gamma_\\ell, \\gamma_g, \\gamma_0 &\\leq 1\\\\\n",
    "\\end{align}\n",
    "$$"
   ]
  },
  {
   "cell_type": "markdown",
   "metadata": {},
   "source": []
  },
  {
   "cell_type": "code",
   "execution_count": 2,
   "metadata": {
    "ExecuteTime": {
     "end_time": "2023-07-11T18:25:05.908659Z",
     "start_time": "2023-07-11T18:25:04.251408Z"
    }
   },
   "outputs": [
    {
     "name": "stdout",
     "output_type": "stream",
     "text": [
      "gamma_0:  0.9999999999166571\n",
      "gamma_l:  -0.9999999999940027\n",
      "gamma_g:  0.9999999999902367\n"
     ]
    }
   ],
   "source": [
    "import itertools\n",
    "\n",
    "import cvxpy as cp\n",
    "\n",
    "# Define variables\n",
    "m = 1\n",
    "l = 1\n",
    "gamma_0 = cp.Variable()\n",
    "gamma_l = cp.Variable()\n",
    "gamma_g = cp.Variable()\n",
    "\n",
    "# Solve the linear program above\n",
    "objective = cp.Minimize(cp.abs(1 - gamma_0) + l * cp.abs(1 + gamma_l) + m * cp.abs(1 - gamma_g))\n",
    "constraints = [gamma_l <= gamma_0, gamma_g >= gamma_0, -1 <= gamma_l, gamma_l <= 1, -1 <= gamma_g, gamma_g <= 1]\n",
    "\n",
    "prob = cp.Problem(objective, constraints)\n",
    "\n",
    "result = prob.solve()\n",
    "\n",
    "print(\"gamma_0: \", gamma_0.value)\n",
    "print(\"gamma_l: \", gamma_l.value)\n",
    "print(\"gamma_g: \", gamma_g.value)"
   ]
  },
  {
   "cell_type": "markdown",
   "metadata": {},
   "source": [
    "Now, let's try something different, with the $\\Delta$s being variable."
   ]
  },
  {
   "cell_type": "code",
   "execution_count": 3,
   "metadata": {
    "ExecuteTime": {
     "end_time": "2023-07-11T18:25:05.947057Z",
     "start_time": "2023-07-11T18:25:05.915562Z"
    }
   },
   "outputs": [
    {
     "name": "stdout",
     "output_type": "stream",
     "text": [
      "(-1, -1, -1)\n",
      "gamma_0:  -0.9999999999890747\n",
      "gamma_l:  -0.9999999999968856\n",
      "gamma_g:  -0.9999999999346522\n",
      "1.0741707523465038e-10\n",
      "(-1, -1, 1)\n",
      "gamma_0:  -0.9999999999443737\n",
      "gamma_l:  -0.9999999999911517\n",
      "gamma_g:  0.9999999999949891\n",
      "1.4911971657483036e-10\n",
      "(-1, 1, -1)\n",
      "gamma_0:  0.9999999999920584\n",
      "gamma_l:  0.9999999999907067\n",
      "gamma_g:  0.9999999999935074\n",
      "4.000000000078499\n",
      "(-1, 1, 1)\n",
      "gamma_0:  0.9999999999543566\n",
      "gamma_l:  0.9999999999573385\n",
      "gamma_g:  1.0000000000350975\n",
      "2.000000000416069\n",
      "(1, -1, -1)\n",
      "gamma_0:  0.021102809768885986\n",
      "gamma_l:  -0.9999999999924389\n",
      "gamma_g:  0.021102809788911728\n",
      "2.0000000000956364\n",
      "(1, -1, 1)\n",
      "gamma_0:  0.9999999999389524\n",
      "gamma_l:  -0.999999999996396\n",
      "gamma_g:  0.999999999983459\n",
      "1.1362866203512567e-10\n",
      "(1, 1, -1)\n",
      "gamma_0:  1.00000000000746\n",
      "gamma_l:  1.0000000000376856\n",
      "gamma_g:  1.0000000001304028\n",
      "2.000000000514719\n",
      "(1, 1, 1)\n",
      "gamma_0:  0.9999999999954462\n",
      "gamma_l:  1.000000000000308\n",
      "gamma_g:  0.9999999999937199\n",
      "1.391364801150985e-11\n"
     ]
    }
   ],
   "source": [
    "import cvxpy as cp\n",
    "import itertools\n",
    "\n",
    "def best_constraints_for(m, l, deltas):\n",
    "    # Define variables\n",
    "    gamma_0 = cp.Variable()\n",
    "    gamma_l = cp.Variable()\n",
    "    gamma_g = cp.Variable()\n",
    "\n",
    "    # Solve the linear program above\n",
    "    objective = cp.Minimize(cp.abs(deltas[0] - gamma_0) + l * cp.abs(deltas[1] - gamma_l) + m * cp.abs(deltas[2] - gamma_g))\n",
    "    constraints = [gamma_l <= gamma_0, gamma_g >= gamma_0, -1 <= gamma_l, gamma_l <= 1, -1 <= gamma_g, gamma_g <= 1]\n",
    "\n",
    "    prob = cp.Problem(objective, constraints)\n",
    "\n",
    "    result = prob.solve()\n",
    "    return (result, gamma_0, gamma_l, gamma_g)\n",
    "\n",
    "l = 10\n",
    "m = 1\n",
    "for deltas in itertools.product([-1, 1], repeat=3):\n",
    "    result, gamma_0, gamma_l, gamma_g = best_constraints_for(m, l, deltas)\n",
    "    print(deltas)\n",
    "    print(\"gamma_0: \", gamma_0.value)\n",
    "    print(\"gamma_l: \", gamma_l.value)\n",
    "    print(\"gamma_g: \", gamma_g.value)\n",
    "    print(result)"
   ]
  },
  {
   "cell_type": "markdown",
   "metadata": {},
   "source": [
    "Now, a new idea. Let's try formulating the search for a counterexample showing tightness as a linear program. The problem is defined as:\n",
    "\n",
    "$$\\max_{\\Delta_i} \\left(\\min_{\\gamma_i} m_0 |\\Delta_0 - \\gamma_0| + m_\\ell |\\Delta_\\ell - \\gamma_\\ell| + m_g |\\Delta_g - \\gamma_g|\\right)$$\n",
    "\n",
    "subject to the constraints\n",
    "\n",
    "$$\n",
    "\\begin{align}\n",
    "\\gamma_\\ell &\\leq \\gamma_0 \\\\\n",
    "\\gamma_g &\\geq \\gamma_0 \\\\\n",
    "-1 \\leq \\gamma_\\ell, \\gamma_g, \\gamma_0 &\\leq 1\\\\\n",
    "-1 \\leq \\Delta_i &\\leq 1 \\qquad \\forall i \\in \\{0, \\ell, g\\}\n",
    "\\end{align}\n",
    "$$"
   ]
  },
  {
   "cell_type": "code",
   "execution_count": 4,
   "metadata": {
    "ExecuteTime": {
     "end_time": "2023-07-11T18:25:05.956825Z",
     "start_time": "2023-07-11T18:25:05.955242Z"
    }
   },
   "outputs": [
    {
     "name": "stdout",
     "output_type": "stream",
     "text": [
      "result:  -inf\n",
      "delta_0:  None\n",
      "delta_l:  None\n",
      "delta_g:  None\n",
      "gamma_0:  None\n",
      "gamma_l:  None\n",
      "gamma_g:  None\n"
     ]
    }
   ],
   "source": [
    "def find_tight_counterexample(m: list[int]):\n",
    "    \"\"\"\n",
    "    Find a coupling strategy that is tight for the given m = [m_0, m_l, m_g], where\n",
    "    m_0 is the weight for the assignment transition, m_l is the weight for the L-transitions,\n",
    "    and m_g is the weight for the G-transitions.\n",
    "    :param m: The weights for the transitions.\n",
    "    :return: A tuple ((delta_0, delta_l, delta_g), (gamma_0, gamma_l, gamma_g)) that form the counterexample and the coupling strategy.\n",
    "    \"\"\"\n",
    "    # Define variables\n",
    "    delta_0 = cp.Variable()\n",
    "    delta_l = cp.Variable()\n",
    "    delta_g = cp.Variable()\n",
    "    gamma_0 = cp.Variable()\n",
    "    gamma_l = cp.Variable()\n",
    "    gamma_g = cp.Variable()\n",
    "    t_0 = cp.Variable() # delta_0 - gamma_0\n",
    "    t_l = cp.Variable() # delta_l - gamma_l\n",
    "    t_g = cp.Variable() # delta_g - gamma_g\n",
    "\n",
    "    # Solve the linear program above\n",
    "    z = cp.Variable()\n",
    "\n",
    "    objective = cp.Minimize(-z)\n",
    "    constraints = [z <= m[0] * t_0 + m[1] * t_l + m[2] * t_g,\n",
    "\n",
    "                   ] + [gamma_l <= gamma_0, gamma_g >= gamma_0, -1 <= gamma_l, gamma_l <= 1, -1 <= gamma_g, gamma_g <= 1, -1 <= delta_0, delta_0 <= 1, -1 <= delta_l, delta_l <= 1, -1 <= delta_g, delta_g <= 1, delta_0 - gamma_0 <= t_0, gamma_0 - delta_0 <= t_0, delta_l - gamma_l <= t_l, gamma_l - delta_l <= t_l, delta_g - gamma_g <= t_g, gamma_g - delta_g <= t_g]\n",
    "\n",
    "    prob = cp.Problem(objective, constraints)\n",
    "\n",
    "    result = prob.solve()\n",
    "\n",
    "    print(\"result: \", result)\n",
    "\n",
    "    return (delta_0.value, delta_l.value, delta_g.value), (gamma_0.value, gamma_l.value, gamma_g.value)\n",
    "\n",
    "m = [1, 1, 1]\n",
    "(delta_0, delta_l, delta_g), (gamma_0, gamma_l, gamma_g) = find_tight_counterexample(m)\n",
    "print(\"delta_0: \", delta_0)\n",
    "print(\"delta_l: \", delta_l)\n",
    "print(\"delta_g: \", delta_g)\n",
    "print(\"gamma_0: \", gamma_0)\n",
    "print(\"gamma_l: \", gamma_l)\n",
    "print(\"gamma_g: \", gamma_g)"
   ]
  },
  {
   "cell_type": "markdown",
   "metadata": {},
   "source": [
    "I asked ChatGPT to convert the above into a linear program through cvxpy. There is certainly something wrong, as I don't think this is really maximizing over $\\Delta_i$ the minimum of the $\\gamma_i$s.\n",
    "\n",
    "Edit: Yikes, it turns out I am looking at a min-max problem, not a linear program. It looks like a bi-level optimisation problem, in which the inner problem is a linear program. The above will not work. Might have to try some iterative methods."
   ]
  },
  {
   "cell_type": "markdown",
   "metadata": {},
   "source": [
    "Going back to the `best_constraints_for` approach, I'll just try finding the best coupling strategies given particular delta."
   ]
  },
  {
   "cell_type": "markdown",
   "metadata": {},
   "source": []
  },
  {
   "cell_type": "code",
   "execution_count": 5,
   "metadata": {
    "ExecuteTime": {
     "end_time": "2023-07-11T18:25:05.965807Z",
     "start_time": "2023-07-11T18:25:05.960610Z"
    }
   },
   "outputs": [
    {
     "name": "stdout",
     "output_type": "stream",
     "text": [
      "Solution to the LP for l = 1, m = 50, and [delta_0,delta_l,delta_g] = [1, -1, 1]:\n",
      "gamma_0:  0.9999999994884569\n",
      "gamma_l:  -0.9999999991641415\n",
      "gamma_g:  0.9999999999824951\n",
      "Optimal coupling bound on this input: 2.222645956173608e-09\n"
     ]
    }
   ],
   "source": [
    "import numpy as np\n",
    "import cvxpy as cp\n",
    "\n",
    "def best_constraints_for(m, l, deltas):\n",
    "    # Define variables\n",
    "    gamma_0 = cp.Variable()\n",
    "    gamma_l = cp.Variable()\n",
    "    gamma_g = cp.Variable()\n",
    "\n",
    "    # Solve the linear program above\n",
    "    objective = cp.Minimize(cp.abs(deltas[0] - gamma_0) + l * cp.abs(deltas[1] - gamma_l) + m * cp.abs(deltas[2] - gamma_g))\n",
    "    constraints = [gamma_l <= gamma_0, gamma_g >= gamma_0, -1 <= gamma_l, gamma_l <= 1, -1 <= gamma_g, gamma_g <= 1]\n",
    "\n",
    "    prob = cp.Problem(objective, constraints)\n",
    "\n",
    "    result = prob.solve()\n",
    "    return result, gamma_0, gamma_l, gamma_g\n",
    "\n",
    "m = 50\n",
    "l = 1\n",
    "deltas = [1, -1, 1]\n",
    "result, gamma_0, gamma_l, gamma_g = best_constraints_for(m, l, deltas)\n",
    "print(f\"Solution to the LP for l = {l}, m = {m}, and [delta_0,delta_l,delta_g] = {deltas}:\")\n",
    "print(\"gamma_0: \", gamma_0.value)\n",
    "print(\"gamma_l: \", gamma_l.value)\n",
    "print(\"gamma_g: \", gamma_g.value)\n",
    "print(f\"Optimal coupling bound on this input: {result}\")"
   ]
  },
  {
   "cell_type": "markdown",
   "metadata": {},
   "source": [
    "This is where we are on tightness.\n",
    "\n",
    "- $S^L$ is tight when there is an $L$-cycle, and $S^G$ is tight when there is a $G$-cycle.\n",
    "- When there are only $<$ or $\\geq$ transitions in a segment:\n",
    "    - $S^J$ is tight when it is the least-cost strategy.\n",
    "    - $S^L$/$S^G$ appears to be tight when it is the least-cost strategy.\n",
    "    - I am not sure if $S^N$ is tight when it is least-cost.\n",
    "- $S^J$ is not tight in general when there are both $<$ and $\\geq$ transitions.\n",
    "\n",
    "When I say least-cost above, I mean among the four strategies $S^G, S^L, S^N, S^J$ we currently know.\n",
    "\n",
    "During the meeting with @Sky Li, we realized that coupling strategies can in general be parametrized by some value $\\gamma$ that represents the difference between the coupled values of $x$ after the assignment transition. Later, I realized that by adding $\\gamma_\\ell$ and $\\gamma_g$, two more values that represent differences between coupled values of `insample` after $<$ and $\\geq$ transitions respectively, we can represent all four strategies.\n",
    "\n",
    "The couplings that $S^J$ makes feel specifically tuned to segments with only L-transitions. From this, I thought it would be informative to explore this relaxed space of coupling strategies to explicitly find the parametrized least-cost strategy (in the entire space) given a segment.\n",
    "\n",
    "From this, we might discover that there are only finitely many coupling strategies that are potentially optimal across all contexts, and we can go back to the discrete choice problem of which one to use. It is also possible that we find that the optimal coupling strategy varies continuously along this parameter space given individual segments. I will investigate this further."
   ]
  },
  {
   "cell_type": "code",
   "execution_count": 6,
   "metadata": {
    "ExecuteTime": {
     "end_time": "2023-07-11T18:25:06.090369Z",
     "start_time": "2023-07-11T18:25:05.969855Z"
    }
   },
   "outputs": [
    {
     "data": {
      "text/plain": "<IPython.core.display.Math object>",
      "text/latex": "$\\displaystyle \\text{The $S^L$ bound is 6.000 } \\\\\\text{The $S^G$ bound is 6.000 } \\\\\\text{The $S^N$ bound is 5.000 } \\\\\\text{The $S^J$ bound is 8.000 }$"
     },
     "metadata": {},
     "output_type": "display_data"
    },
    {
     "data": {
      "text/plain": "<IPython.core.display.Math object>",
      "text/latex": "$\\displaystyle \\text{Solution to the LP for $l$ = 2, m = 2, and [$\\Delta_0, \\Delta_\\ell,\\Delta_g$] = (-1, 1, -1):} \\\\[1em]x_0 \\langle 1 \\rangle - 1.000 = x_0 \\langle 2 \\rangle \\qquad \\text{with cost} |\\Delta_0 - \\gamma_0| = 0.000 \\\\ x_\\ell \\langle 1 \\rangle - 1.000 = x_\\ell \\langle 2 \\rangle \\qquad \\text{with cost} |\\Delta_\\ell - \\gamma_\\ell| = 2.000 \\\\ x_g \\langle 1 \\rangle - 1.000 = x_g \\langle 2 \\rangle \\qquad \\text{with cost} |\\Delta_g - \\gamma_g| = 0.000 \\\\[1em]\\text{The optimal coupling bound on this input is } 0.000 + 2.000 l + 0.000m = 4.000$"
     },
     "metadata": {},
     "output_type": "display_data"
    },
    {
     "data": {
      "text/plain": "4.000000000016456"
     },
     "execution_count": 6,
     "metadata": {},
     "output_type": "execute_result"
    }
   ],
   "source": [
    "from IPython.display import display, Latex, Math\n",
    "\n",
    "def sgn(x: float) -> str:\n",
    "    return '+' if x >= 0 else '-'\n",
    "\n",
    "def fmt(x: float) -> str:\n",
    "    return f\"{sgn(x)} {abs(x):.3f}\"\n",
    "\n",
    "def fmtabs(x: float) -> str:\n",
    "    return f\"{abs(x):.3f}\"\n",
    "\n",
    "def print_known_coupling_strategies(m: int, l: int):\n",
    "    display(Math(rf\"\\text{{The $S^L$ bound is {fmtabs(2 + 2 * m)} }} \\\\\"\n",
    "                 rf\"\\text{{The $S^G$ bound is {fmtabs(2 + 2 * l)} }} \\\\\"\n",
    "                 rf\"\\text{{The $S^N$ bound is {fmtabs(1 + l + m)} }} \\\\\"\n",
    "                 rf\"\\text{{The $S^J$ bound is {fmtabs(2 * l + 2 * m)} }}\"\n",
    "                 ))\n",
    "\n",
    "def get_optimal_coupling_cost(m: int, l: int, deltas, display_output=False):\n",
    "    result, gamma_0, gamma_l, gamma_g = best_constraints_for(m, l, deltas)\n",
    "    gamma_0_val = np.round(gamma_0.value, 3)\n",
    "    gamma_l_val = np.round(gamma_l.value, 3)\n",
    "    gamma_g_val = np.round(gamma_g.value, 3)\n",
    "\n",
    "    cost_0 = abs(deltas[0] - gamma_0_val)\n",
    "    cost_l = abs(deltas[1] - gamma_l_val)\n",
    "    cost_g = abs(deltas[2] - gamma_g_val)\n",
    "\n",
    "    if display_output:\n",
    "        display(Math(rf\"\\text{{Solution to the LP for $l$ = {l}, m = {m}, and [$\\Delta_0, \\Delta_\\ell,\\Delta_g$] = {deltas}:}} \\\\[1em]\"\n",
    "                 rf\"x_0 \\langle 1 \\rangle {fmt(gamma_0_val)} = x_0 \\langle 2 \\rangle \\qquad \\text{{with cost}} |\\Delta_0 - \\gamma_0| = {fmtabs(cost_0)} \\\\ \"\n",
    "                 rf\"x_\\ell \\langle 1 \\rangle {fmt(gamma_l_val)} = x_\\ell \\langle 2 \\rangle \\qquad \\text{{with cost}} |\\Delta_\\ell - \\gamma_\\ell| = {fmtabs(cost_l)} \\\\ \"\n",
    "                rf\"x_g \\langle 1 \\rangle {fmt(gamma_g_val)} = x_g \\langle 2 \\rangle \\qquad \\text{{with cost}} |\\Delta_g - \\gamma_g| = {fmtabs(cost_g)} \\\\[1em]\"\n",
    "                 rf\"\\text{{The optimal coupling bound on this input is }} {fmtabs(cost_0)} + {fmtabs(cost_l)} l + {fmtabs(cost_g)}m = {fmtabs(cost_0 + m*cost_g + l*cost_l)}\"\n",
    "                 ))\n",
    "\n",
    "    return result\n",
    "\n",
    "m = 2\n",
    "l = 2\n",
    "max_res = -np.inf\n",
    "worst_deltas = None\n",
    "for deltas in itertools.product([-1, 0, 1], repeat=3):\n",
    "    res = get_optimal_coupling_cost(m, l, deltas, display_output=False)\n",
    "    if max_res < res:\n",
    "        max_res = res\n",
    "        worst_deltas = deltas\n",
    "print_known_coupling_strategies(m, l)\n",
    "get_optimal_coupling_cost(m, l, worst_deltas, display_output=True)"
   ]
  },
  {
   "cell_type": "code",
   "execution_count": 10,
   "metadata": {
    "ExecuteTime": {
     "end_time": "2023-07-11T18:26:00.905836Z",
     "start_time": "2023-07-11T18:26:00.895268Z"
    }
   },
   "outputs": [
    {
     "data": {
      "text/plain": "<IPython.core.display.Math object>",
      "text/latex": "$\\displaystyle \\text{Solution to the LP for $l$ = 2, m = 2, and [$\\Delta_0, \\Delta_\\ell,\\Delta_g$] = [0, 1, -1]:} \\\\[1em]x_0 \\langle 1 \\rangle + 0.000 = x_0 \\langle 2 \\rangle \\qquad \\text{with cost} |\\Delta_0 - \\gamma_0| = 0.000 \\\\ x_\\ell \\langle 1 \\rangle + 0.000 = x_\\ell \\langle 2 \\rangle \\qquad \\text{with cost} |\\Delta_\\ell - \\gamma_\\ell| = 1.000 \\\\ x_g \\langle 1 \\rangle + 0.000 = x_g \\langle 2 \\rangle \\qquad \\text{with cost} |\\Delta_g - \\gamma_g| = 1.000 \\\\[1em]\\text{The optimal coupling bound on this input is } 0.000 + 1.000 l + 1.000m = 4.000$"
     },
     "metadata": {},
     "output_type": "display_data"
    },
    {
     "data": {
      "text/plain": "3.999999998576906"
     },
     "execution_count": 10,
     "metadata": {},
     "output_type": "execute_result"
    }
   ],
   "source": [
    "get_optimal_coupling_cost(m, l, [0, 1, -1], display_output=True)"
   ]
  },
  {
   "cell_type": "code",
   "execution_count": 9,
   "metadata": {
    "ExecuteTime": {
     "end_time": "2023-07-11T18:25:48.408546Z",
     "start_time": "2023-07-11T18:25:48.391452Z"
    }
   },
   "outputs": [],
   "source": []
  }
 ],
 "metadata": {
  "kernelspec": {
   "display_name": "Python 3 (ipykernel)",
   "language": "python",
   "name": "python3"
  },
  "language_info": {
   "codemirror_mode": {
    "name": "ipython",
    "version": 3
   },
   "file_extension": ".py",
   "mimetype": "text/x-python",
   "name": "python",
   "nbconvert_exporter": "python",
   "pygments_lexer": "ipython3",
   "version": "3.11.3"
  }
 },
 "nbformat": 4,
 "nbformat_minor": 1
}
